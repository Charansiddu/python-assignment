{
  "nbformat": 4,
  "nbformat_minor": 0,
  "metadata": {
    "colab": {
      "name": "assignment 1.ipynb",
      "provenance": [],
      "collapsed_sections": []
    },
    "kernelspec": {
      "name": "python3",
      "display_name": "Python 3"
    },
    "language_info": {
      "name": "python"
    }
  },
  "cells": [
    {
      "cell_type": "markdown",
      "metadata": {
        "id": "crkwZf5SCyER"
      },
      "source": [
        "The main idea of this assignment is explore \n",
        "1.   Basic Operation \n",
        "           - print statement \n",
        "           - how to get help \n",
        "           - declare variables \n",
        "           - assign values\n",
        "2. Working with Integers \n",
        "           - operators \n",
        "           - functions \n",
        "3. Working with Strings \n",
        "           - operators \n",
        "           - functions \n",
        "4. Handling Errors \n",
        "           - Syntax \n",
        "           - Run Time \n",
        "           - Logical\n",
        "\n",
        "\n",
        "\n"
      ]
    },
    {
      "cell_type": "code",
      "metadata": {
        "id": "GPfG8zb3LBT5",
        "colab": {
          "base_uri": "https://localhost:8080/"
        },
        "outputId": "dfd2815a-cb43-480b-f829-8b9a1089afe9"
      },
      "source": [
        "# print your name \n",
        "print (\"Charan S\")\n",
        "# print your hobbies \n",
        "print (\"Reading Books , Playing Badminton\")\n",
        "\n",
        "# print your registration number\n",
        "print(\"211047011\")"
      ],
      "execution_count": null,
      "outputs": [
        {
          "output_type": "stream",
          "name": "stdout",
          "text": [
            "Charan S\n",
            "Reading Books , Playing Badminton\n",
            "211047011\n"
          ]
        }
      ]
    },
    {
      "cell_type": "code",
      "metadata": {
        "id": "NYfLS3UvO14i",
        "colab": {
          "base_uri": "https://localhost:8080/"
        },
        "outputId": "94f4c12a-a007-47de-9a21-6d029d6ea933"
      },
      "source": [
        "# how to get more information about print functions \n",
        "help(print)\n",
        "# how to get more infromation about math module \n",
        "import math\n",
        "help(math)\n",
        "# how to get more information about symbols \n",
        "help('symbols')"
      ],
      "execution_count": null,
      "outputs": [
        {
          "output_type": "stream",
          "name": "stdout",
          "text": [
            "Help on built-in function print in module builtins:\n",
            "\n",
            "print(...)\n",
            "    print(value, ..., sep=' ', end='\\n', file=sys.stdout, flush=False)\n",
            "    \n",
            "    Prints the values to a stream, or to sys.stdout by default.\n",
            "    Optional keyword arguments:\n",
            "    file:  a file-like object (stream); defaults to the current sys.stdout.\n",
            "    sep:   string inserted between values, default a space.\n",
            "    end:   string appended after the last value, default a newline.\n",
            "    flush: whether to forcibly flush the stream.\n",
            "\n",
            "Help on built-in module math:\n",
            "\n",
            "NAME\n",
            "    math\n",
            "\n",
            "DESCRIPTION\n",
            "    This module provides access to the mathematical functions\n",
            "    defined by the C standard.\n",
            "\n",
            "FUNCTIONS\n",
            "    acos(x, /)\n",
            "        Return the arc cosine (measured in radians) of x.\n",
            "    \n",
            "    acosh(x, /)\n",
            "        Return the inverse hyperbolic cosine of x.\n",
            "    \n",
            "    asin(x, /)\n",
            "        Return the arc sine (measured in radians) of x.\n",
            "    \n",
            "    asinh(x, /)\n",
            "        Return the inverse hyperbolic sine of x.\n",
            "    \n",
            "    atan(x, /)\n",
            "        Return the arc tangent (measured in radians) of x.\n",
            "    \n",
            "    atan2(y, x, /)\n",
            "        Return the arc tangent (measured in radians) of y/x.\n",
            "        \n",
            "        Unlike atan(y/x), the signs of both x and y are considered.\n",
            "    \n",
            "    atanh(x, /)\n",
            "        Return the inverse hyperbolic tangent of x.\n",
            "    \n",
            "    ceil(x, /)\n",
            "        Return the ceiling of x as an Integral.\n",
            "        \n",
            "        This is the smallest integer >= x.\n",
            "    \n",
            "    copysign(x, y, /)\n",
            "        Return a float with the magnitude (absolute value) of x but the sign of y.\n",
            "        \n",
            "        On platforms that support signed zeros, copysign(1.0, -0.0)\n",
            "        returns -1.0.\n",
            "    \n",
            "    cos(x, /)\n",
            "        Return the cosine of x (measured in radians).\n",
            "    \n",
            "    cosh(x, /)\n",
            "        Return the hyperbolic cosine of x.\n",
            "    \n",
            "    degrees(x, /)\n",
            "        Convert angle x from radians to degrees.\n",
            "    \n",
            "    erf(x, /)\n",
            "        Error function at x.\n",
            "    \n",
            "    erfc(x, /)\n",
            "        Complementary error function at x.\n",
            "    \n",
            "    exp(x, /)\n",
            "        Return e raised to the power of x.\n",
            "    \n",
            "    expm1(x, /)\n",
            "        Return exp(x)-1.\n",
            "        \n",
            "        This function avoids the loss of precision involved in the direct evaluation of exp(x)-1 for small x.\n",
            "    \n",
            "    fabs(x, /)\n",
            "        Return the absolute value of the float x.\n",
            "    \n",
            "    factorial(x, /)\n",
            "        Find x!.\n",
            "        \n",
            "        Raise a ValueError if x is negative or non-integral.\n",
            "    \n",
            "    floor(x, /)\n",
            "        Return the floor of x as an Integral.\n",
            "        \n",
            "        This is the largest integer <= x.\n",
            "    \n",
            "    fmod(x, y, /)\n",
            "        Return fmod(x, y), according to platform C.\n",
            "        \n",
            "        x % y may differ.\n",
            "    \n",
            "    frexp(x, /)\n",
            "        Return the mantissa and exponent of x, as pair (m, e).\n",
            "        \n",
            "        m is a float and e is an int, such that x = m * 2.**e.\n",
            "        If x is 0, m and e are both 0.  Else 0.5 <= abs(m) < 1.0.\n",
            "    \n",
            "    fsum(seq, /)\n",
            "        Return an accurate floating point sum of values in the iterable seq.\n",
            "        \n",
            "        Assumes IEEE-754 floating point arithmetic.\n",
            "    \n",
            "    gamma(x, /)\n",
            "        Gamma function at x.\n",
            "    \n",
            "    gcd(x, y, /)\n",
            "        greatest common divisor of x and y\n",
            "    \n",
            "    hypot(x, y, /)\n",
            "        Return the Euclidean distance, sqrt(x*x + y*y).\n",
            "    \n",
            "    isclose(a, b, *, rel_tol=1e-09, abs_tol=0.0)\n",
            "        Determine whether two floating point numbers are close in value.\n",
            "        \n",
            "          rel_tol\n",
            "            maximum difference for being considered \"close\", relative to the\n",
            "            magnitude of the input values\n",
            "          abs_tol\n",
            "            maximum difference for being considered \"close\", regardless of the\n",
            "            magnitude of the input values\n",
            "        \n",
            "        Return True if a is close in value to b, and False otherwise.\n",
            "        \n",
            "        For the values to be considered close, the difference between them\n",
            "        must be smaller than at least one of the tolerances.\n",
            "        \n",
            "        -inf, inf and NaN behave similarly to the IEEE 754 Standard.  That\n",
            "        is, NaN is not close to anything, even itself.  inf and -inf are\n",
            "        only close to themselves.\n",
            "    \n",
            "    isfinite(x, /)\n",
            "        Return True if x is neither an infinity nor a NaN, and False otherwise.\n",
            "    \n",
            "    isinf(x, /)\n",
            "        Return True if x is a positive or negative infinity, and False otherwise.\n",
            "    \n",
            "    isnan(x, /)\n",
            "        Return True if x is a NaN (not a number), and False otherwise.\n",
            "    \n",
            "    ldexp(x, i, /)\n",
            "        Return x * (2**i).\n",
            "        \n",
            "        This is essentially the inverse of frexp().\n",
            "    \n",
            "    lgamma(x, /)\n",
            "        Natural logarithm of absolute value of Gamma function at x.\n",
            "    \n",
            "    log(...)\n",
            "        log(x, [base=math.e])\n",
            "        Return the logarithm of x to the given base.\n",
            "        \n",
            "        If the base not specified, returns the natural logarithm (base e) of x.\n",
            "    \n",
            "    log10(x, /)\n",
            "        Return the base 10 logarithm of x.\n",
            "    \n",
            "    log1p(x, /)\n",
            "        Return the natural logarithm of 1+x (base e).\n",
            "        \n",
            "        The result is computed in a way which is accurate for x near zero.\n",
            "    \n",
            "    log2(x, /)\n",
            "        Return the base 2 logarithm of x.\n",
            "    \n",
            "    modf(x, /)\n",
            "        Return the fractional and integer parts of x.\n",
            "        \n",
            "        Both results carry the sign of x and are floats.\n",
            "    \n",
            "    pow(x, y, /)\n",
            "        Return x**y (x to the power of y).\n",
            "    \n",
            "    radians(x, /)\n",
            "        Convert angle x from degrees to radians.\n",
            "    \n",
            "    remainder(x, y, /)\n",
            "        Difference between x and the closest integer multiple of y.\n",
            "        \n",
            "        Return x - n*y where n*y is the closest integer multiple of y.\n",
            "        In the case where x is exactly halfway between two multiples of\n",
            "        y, the nearest even value of n is used. The result is always exact.\n",
            "    \n",
            "    sin(x, /)\n",
            "        Return the sine of x (measured in radians).\n",
            "    \n",
            "    sinh(x, /)\n",
            "        Return the hyperbolic sine of x.\n",
            "    \n",
            "    sqrt(x, /)\n",
            "        Return the square root of x.\n",
            "    \n",
            "    tan(x, /)\n",
            "        Return the tangent of x (measured in radians).\n",
            "    \n",
            "    tanh(x, /)\n",
            "        Return the hyperbolic tangent of x.\n",
            "    \n",
            "    trunc(x, /)\n",
            "        Truncates the Real x to the nearest Integral toward 0.\n",
            "        \n",
            "        Uses the __trunc__ magic method.\n",
            "\n",
            "DATA\n",
            "    e = 2.718281828459045\n",
            "    inf = inf\n",
            "    nan = nan\n",
            "    pi = 3.141592653589793\n",
            "    tau = 6.283185307179586\n",
            "\n",
            "FILE\n",
            "    (built-in)\n",
            "\n",
            "\n",
            "\n",
            "Here is a list of the punctuation symbols which Python assigns special meaning\n",
            "to. Enter any symbol to get more help.\n",
            "\n",
            "!=                  +                   <=                  __\n",
            "\"                   +=                  <>                  `\n",
            "\"\"\"                 ,                   ==                  b\"\n",
            "%                   -                   >                   b'\n",
            "%=                  -=                  >=                  f\"\n",
            "&                   .                   >>                  f'\n",
            "&=                  ...                 >>=                 j\n",
            "'                   /                   @                   r\"\n",
            "'''                 //                  J                   r'\n",
            "(                   //=                 [                   u\"\n",
            ")                   /=                  \\                   u'\n",
            "*                   :                   ]                   |\n",
            "**                  <                   ^                   |=\n",
            "**=                 <<                  ^=                  ~\n",
            "*=                  <<=                 _                   \n",
            "\n"
          ]
        }
      ]
    },
    {
      "cell_type": "code",
      "metadata": {
        "id": "ZaOdQNaFW3QF"
      },
      "source": [
        ""
      ],
      "execution_count": null,
      "outputs": []
    },
    {
      "cell_type": "code",
      "metadata": {
        "id": "YmCpHvKVO5ud",
        "colab": {
          "base_uri": "https://localhost:8080/"
        },
        "outputId": "b23d6408-1794-45df-b5ed-9ab7e5973308"
      },
      "source": [
        "# store your role model name in the variable \"role\"\n",
        "role = \"Kevin Mitnick\"\n",
        "print (role)\n",
        "# describe your role model in the variable \"role_desc\"\n",
        "role_desc = \"Kevin David Mitnick is an American computer security consultant, author,& convicted hacker\"\n",
        "print (role_desc)\n",
        "# store the numeric value in the variable \"my_values\"\n",
        "my_values = 21\n",
        "print(my_values)"
      ],
      "execution_count": null,
      "outputs": [
        {
          "output_type": "stream",
          "name": "stdout",
          "text": [
            "Kevin Mitnick\n",
            "Kevin David Mitnick is an American computer security consultant, author,& convicted hacker\n",
            "21\n"
          ]
        }
      ]
    },
    {
      "cell_type": "code",
      "metadata": {
        "id": "Jkev_gH2T4w7"
      },
      "source": [
        "# you can perform arithemetic opeartions using python arithmetic opeartors \n",
        "# To perform arithmetic opeations \n",
        "# If your run a 1000 Kilo Meter race in 143 minutes 30 seconds, what is your average time per mile? What is your average speed in miles per hour? \n",
        "# Hint : 1.61 kilometers in a mile\n"
      ],
      "execution_count": null,
      "outputs": []
    },
    {
      "cell_type": "code",
      "metadata": {
        "id": "M0jRtr_pVDAO",
        "colab": {
          "base_uri": "https://localhost:8080/"
        },
        "outputId": "5ce85649-b1b2-4338-f04d-243c6482d16d"
      },
      "source": [
        "# Suppose the cover price of a python book  is  577.95, but bookstores get a 40% discount.\n",
        "# Shipping costs  150 for the first copy and 50 Rupees for each additional copy. What is the total wholesale cost for 60 copies?\n",
        "bookPrice = 577.95\n",
        "discount = (40/100)\n",
        "shippingPriceRest = 50\n",
        "shippingPriceFirst = 150\n",
        "totalUnits = 60\n",
        "\n",
        "bookDiscountAmount = bookPrice * discount * totalUnits\n",
        "shipping = shippingPriceRest * 59 + shippingPriceFirst\n",
        "result = (bookPrice * 60) - bookDiscountAmount + shipping\n",
        "print ('The total price for 60 books including shipping and discount is: '+ str(result))\n"
      ],
      "execution_count": null,
      "outputs": [
        {
          "output_type": "stream",
          "name": "stdout",
          "text": [
            "The total price for 60 books including shipping and discount is: 23906.199999999997\n"
          ]
        }
      ]
    },
    {
      "cell_type": "code",
      "metadata": {
        "id": "_lQDsw9z6EKD",
        "colab": {
          "base_uri": "https://localhost:8080/"
        },
        "outputId": "ec15516b-1477-49b7-beb8-527bb79ae79f"
      },
      "source": [
        "# write a python code to convert Centrigrade to Fahrenheit , get the value Centrigrade from the user. \n",
        "# Sample Input:\n",
        "# Enter Centrigrade:  23.5 \n",
        "celsius = float(input(\"Enter temperature in celsius: \"))\n",
        "fahrenheit = (celsius * 9/5) + 32\n",
        "print('%0.2f Fahrenheit' %(fahrenheit))\n"
      ],
      "execution_count": null,
      "outputs": [
        {
          "output_type": "stream",
          "name": "stdout",
          "text": [
            "Enter temperature in celsius: 23.5\n",
            "74.30 Fahrenheit\n"
          ]
        }
      ]
    },
    {
      "cell_type": "code",
      "metadata": {
        "id": "U2jXh8GNDk3Q",
        "colab": {
          "base_uri": "https://localhost:8080/"
        },
        "outputId": "3d0888fe-6b60-4daa-ee1a-319144dcda6c"
      },
      "source": [
        "# write a python code to convert Fahrenheit to Centrigrade, get the value Fahreheit from the user. \n",
        "# Sample Input:\n",
        "# Enter Fahreheit:  23.5 \n",
        "fahrenheit = float(input(\"Enter temperature in fahrenheit: \"))\n",
        "celsius = (fahrenheit - 32) * 5/9\n",
        "print(' %0.2f Celsius' %( celsius) + \"degree Centrigrade\")\n"
      ],
      "execution_count": null,
      "outputs": [
        {
          "output_type": "stream",
          "name": "stdout",
          "text": [
            "Enter temperature in fahrenheit: 23.5\n",
            " -4.72 Celsiusdegree Centrigrade\n"
          ]
        }
      ]
    },
    {
      "cell_type": "code",
      "metadata": {
        "id": "UH0S-lJJFDQ0",
        "colab": {
          "base_uri": "https://localhost:8080/"
        },
        "outputId": "762af2e1-4001-45c5-94e7-75b86bc2b68c"
      },
      "source": [
        "# Write a python program of your choice which uses arithmetic operations (use both operators and functions ) with meaningful application \n",
        "def add(x, y):\n",
        "    return x + y\n",
        "def subtract(x, y):\n",
        "    return x - y\n",
        "def multiply(x, y):\n",
        "    return x * y\n",
        "def divide(x, y):\n",
        "    return x / y\n",
        "print(\"Select operation.\")\n",
        "print(\"1.Add\")\n",
        "print(\"2.Subtract\")\n",
        "print(\"3.Multiply\")\n",
        "print(\"4.Divide\")\n",
        "\n",
        "while True:\n",
        "    choice = input(\"Enter choice(1/2/3/4): \")\n",
        "    if choice in ('1', '2', '3', '4'):\n",
        "        num1 = float(input(\"Enter first number: \"))\n",
        "        num2 = float(input(\"Enter second number: \"))\n",
        "        if choice == '1':\n",
        "            print(\"sum=\", add(num1, num2))\n",
        "        elif choice == '2':\n",
        "            print(\"sub=\", subtract(num1, num2))\n",
        "        elif choice == '3':\n",
        "            print(\"Mul=\", multiply(num1, num2))\n",
        "        elif choice == '4':\n",
        "            print(\"div=\", divide(num1, num2))\n",
        "        \n",
        "        next_calculation = input(\"Continue (y/n): \")\n",
        "        if next_calculation == \"n\":\n",
        "          break\n",
        "    \n",
        "    else:\n",
        "        print(\"Invalid Input\")"
      ],
      "execution_count": null,
      "outputs": [
        {
          "name": "stdout",
          "output_type": "stream",
          "text": [
            "Select operation.\n",
            "1.Add\n",
            "2.Subtract\n",
            "3.Multiply\n",
            "4.Divide\n",
            "Enter choice(1/2/3/4): 1\n",
            "Enter first number: 2\n",
            "Enter second number: 3\n",
            "sum= 5.0\n",
            "Continue (y/n): y\n",
            "Enter choice(1/2/3/4): 3\n",
            "Enter first number: 2\n",
            "Enter second number: 3\n",
            "Mul= 6.0\n",
            "Continue (y/n): n\n"
          ]
        }
      ]
    },
    {
      "cell_type": "code",
      "metadata": {
        "id": "h18SMgbAG1AL",
        "colab": {
          "base_uri": "https://localhost:8080/"
        },
        "outputId": "82a5ba31-7ceb-47a2-e5d7-4e9588a8b096"
      },
      "source": [
        "# create a variable called my_neg to store  negative value \n",
        "\n",
        "\n",
        "# create a variable called my_float to store float value \n",
        "flo = float(input(\"enter the number\"))\n",
        "print(flo)\n",
        "# create a variable called my_complex to store complex value \n",
        "\n",
        "my_complex= complex(2,4)\n",
        "print(my_complex)\n",
        "# Note: there a various method to create complex numbers \n",
        "\n",
        "# perform mathematical operations on complex numbers \n",
        "def add( z1, z2):\n",
        "    return z1 + z2\n",
        "z1 = complex(2, 3)\n",
        "z2 = complex(1, 2)\n",
        "print( \"ADD is : \", add(z1, z2))\n",
        "def sub( z1, z2):\n",
        "    return z1 - z2\n",
        "z1 = complex(2, 3)\n",
        "z2 = complex(1, 2)\n",
        "print( \"SUB is : \", sub(z1, z2))"
      ],
      "execution_count": null,
      "outputs": [
        {
          "output_type": "stream",
          "name": "stdout",
          "text": [
            "enter the number20.0000\n",
            "20.0\n",
            "(2+4j)\n",
            "ADD is :  (3+5j)\n",
            "SUB is :  (1+1j)\n"
          ]
        }
      ]
    },
    {
      "cell_type": "code",
      "metadata": {
        "id": "D9zXw7dfeuQG",
        "colab": {
          "base_uri": "https://localhost:8080/",
          "height": 130
        },
        "outputId": "911041dd-9a99-41c4-8090-c7cdd9bf3e7b"
      },
      "source": [
        "# create a variable called break and assign it a value of 15. what is the response and find the reason behind the behaviour. \n",
        "break = 15\n",
        "print (break) \n",
        "\n",
        "#answer - built in functions cannot be used as variable "
      ],
      "execution_count": null,
      "outputs": [
        {
          "output_type": "error",
          "ename": "SyntaxError",
          "evalue": "ignored",
          "traceback": [
            "\u001b[0;36m  File \u001b[0;32m\"<ipython-input-41-68dacf927dec>\"\u001b[0;36m, line \u001b[0;32m2\u001b[0m\n\u001b[0;31m    break = 15\u001b[0m\n\u001b[0m          ^\u001b[0m\n\u001b[0;31mSyntaxError\u001b[0m\u001b[0;31m:\u001b[0m invalid syntax\n"
          ]
        }
      ]
    },
    {
      "cell_type": "code",
      "metadata": {
        "colab": {
          "base_uri": "https://localhost:8080/"
        },
        "id": "fDPZ89vTmA3i",
        "outputId": "1c380d02-6e94-482c-fb47-fe68544a537a"
      },
      "source": [
        "result =\"hello world\"\n",
        "print (result[0])"
      ],
      "execution_count": null,
      "outputs": [
        {
          "output_type": "stream",
          "name": "stdout",
          "text": [
            "h\n"
          ]
        }
      ]
    },
    {
      "cell_type": "code",
      "metadata": {
        "id": "5sv7vl8_R3P5",
        "colab": {
          "base_uri": "https://localhost:8080/"
        },
        "outputId": "67162a27-ebe2-4c14-8e25-a740995da067"
      },
      "source": [
        "# String operations \n",
        "#Write a program to get the name of the guest , then greet the user using their name as part of greeting \n",
        "# Sample Input \n",
        "# Enter the Guest Name: Writer Sudha Murthy \n",
        "# Sample Output \n",
        "# I am extremly hounor to welcome Sudha Murthy to ....... \n",
        "\n",
        "name = input(\"Enter The Guest Name:\")\n",
        "print(\"I am extremly hounor to welcome \"+ name+ \" to .......\")"
      ],
      "execution_count": null,
      "outputs": [
        {
          "output_type": "stream",
          "name": "stdout",
          "text": [
            "Enter The Guest Name:charan s\n",
            "I am extremly hounor to welcome charan s to .......\n"
          ]
        }
      ]
    },
    {
      "cell_type": "code",
      "metadata": {
        "id": "EkN2V3BzTyYh",
        "colab": {
          "base_uri": "https://localhost:8080/"
        },
        "outputId": "0be3527f-12c0-4d72-83e3-ef15b6b1e510"
      },
      "source": [
        "quotes  = \"Don't judge each day by the harvest you reap but by the seeds that you plant.\"\n",
        "\n",
        "# count the total number of characters in the variable quotes \n",
        "print(len(quotes))\n",
        "# convert the smaller case to upper case, upper case to smaller case \n",
        "print(quotes.swapcase())\n",
        "\n",
        "# check whether the numeric value is present or not \n",
        "print(quotes.isnumeric())\n",
        "# Check whether the word \"harvest\" present in the string or not \n",
        "\"harvest\" in quotes\n",
        "# replace the (.) with (!) \n",
        "rep= quotes.replace('.','!')\n",
        "print(rep)"
      ],
      "execution_count": null,
      "outputs": [
        {
          "output_type": "stream",
          "name": "stdout",
          "text": [
            "77\n",
            "dON'T JUDGE EACH DAY BY THE HARVEST YOU REAP BUT BY THE SEEDS THAT YOU PLANT.\n",
            "False\n",
            "Don't judge each day by the harvest you reap but by the seeds that you plant!\n"
          ]
        }
      ]
    },
    {
      "cell_type": "code",
      "metadata": {
        "id": "9xasXs-dWMTc",
        "colab": {
          "base_uri": "https://localhost:8080/"
        },
        "outputId": "0e994c7e-d3c5-4d81-f1b6-d09cff07eaa2"
      },
      "source": [
        "# Explore any 5 string build-in functions which is not discussed in the class\n",
        "# provide with suitable examples \n",
        "#1. isspace()-Returns True if all characters in the string are whitespaces\n",
        "string = \"      \"\n",
        "x = string.isspace()\n",
        "print(x)\n",
        "#2. isascii()-Returns True if all characters in the string are ascii characters\n",
        "string = \"MSIS\"\n",
        "x = string.isascii()\n",
        "print(x)\n",
        "#3. splitlines()\tSplits the string at line breaks and returns a list\n",
        "txt = \"Hello Good Morning\\n Welcome To MSIS\"\n",
        "x = txt.splitlines()\n",
        "print(x)\n",
        "#4. encode()\tReturns an encoded version of the string\n",
        "string = \"Welocme to MSIS\"\n",
        "x = string.encode()\n",
        "print(x)\n",
        "#5. isalnum()\tReturns True if all characters in the string are alphanumeric\n",
        "string = \"MSIS1\"\n",
        "x = string.isalnum()\n",
        "print(x)"
      ],
      "execution_count": null,
      "outputs": [
        {
          "output_type": "stream",
          "name": "stdout",
          "text": [
            "True\n",
            "True\n",
            "['Hello Good Morning', ' Welcome To MSIS']\n",
            "b'Welocme to MSIS'\n",
            "True\n"
          ]
        }
      ]
    },
    {
      "cell_type": "code",
      "metadata": {
        "id": "vs0lRRDRtRFQ",
        "colab": {
          "base_uri": "https://localhost:8080/"
        },
        "outputId": "e568ef2f-5df2-4db1-8210-188d6c8a000c"
      },
      "source": [
        "num_int =55\n",
        "num_str =\"34\"\n",
        "int(num_str)\n",
        "total = num_int + int(num_str)\n",
        "print (total)\n",
        "print (type(num_int))\n",
        "print (type(num_str))\n"
      ],
      "execution_count": null,
      "outputs": [
        {
          "output_type": "stream",
          "name": "stdout",
          "text": [
            "89\n",
            "<class 'int'>\n",
            "<class 'str'>\n"
          ]
        }
      ]
    },
    {
      "cell_type": "code",
      "metadata": {
        "id": "yNDpOmfoNZhD",
        "colab": {
          "base_uri": "https://localhost:8080/"
        },
        "outputId": "7bf4e8e9-7c81-4253-91ab-86341541d742"
      },
      "source": [
        "# print the quotes : Don't judge each day by the harvest you reap but by the seeds that you plant.\n",
        "# Example for syntax Error \n",
        "\n",
        "print (\"Don't judge each day by the harvest you reap but by the seeds that you plant\")\n",
        "\n"
      ],
      "execution_count": null,
      "outputs": [
        {
          "output_type": "stream",
          "name": "stdout",
          "text": [
            "Don't judge each day by the harvest you reap but by the seeds that you plant\n"
          ]
        }
      ]
    },
    {
      "cell_type": "code",
      "metadata": {
        "id": "Rbq2VWPy4Hp-",
        "colab": {
          "base_uri": "https://localhost:8080/"
        },
        "outputId": "aa371a5c-44b4-499c-97bd-cfc1cf44f0f1"
      },
      "source": [
        "#Find potential sources of runtime errors in this code snippet:\n",
        "#import math\n",
        "dividend = float(input(\"Please enter the dividend: \"))\n",
        "divisor = float(input(\"Please enter the divisor: \"))\n",
        "quotient = dividend / divisor\n",
        "quotient_rounded = round(quotient)\n",
        "print (quotient_rounded)\n"
      ],
      "execution_count": null,
      "outputs": [
        {
          "output_type": "stream",
          "name": "stdout",
          "text": [
            "Please enter the dividend: 2\n",
            "Please enter the divisor: 3\n",
            "1\n"
          ]
        }
      ]
    },
    {
      "cell_type": "code",
      "metadata": {
        "id": "3PLbQJiLOhup",
        "colab": {
          "base_uri": "https://localhost:8080/"
        },
        "outputId": "c4350362-6c05-450f-fde4-2f5a95b1b94d"
      },
      "source": [
        "# print the Quotes :Don't judge each day by the harvest you reap but by the seeds that you plant.\n",
        "print (\"Don't judge each day by the harvest you reap but by the seeds that you plant\")"
      ],
      "execution_count": null,
      "outputs": [
        {
          "output_type": "stream",
          "name": "stdout",
          "text": [
            "Don't judge each day by the harvest you reap but by the seeds that you plant\n"
          ]
        }
      ]
    },
    {
      "cell_type": "code",
      "metadata": {
        "id": "qG-UqL6yPvLY",
        "colab": {
          "base_uri": "https://localhost:8080/"
        },
        "outputId": "4269828d-0273-47b2-d657-b9e57b2fec62"
      },
      "source": [
        "# identify the error, label the type of error and correct the error \n",
        "classs =\"plant\"\n",
        "crop_name =\"Brinjal\"\n",
        "yeid = 20 \n",
        "# print name of the class, crop name and yeid \n",
        "print(classs)\n",
        "print(crop_name)\n",
        "print(yeid)\n",
        "x=10\n",
        "print (x)\n",
        "# print the value of x \n"
      ],
      "execution_count": null,
      "outputs": [
        {
          "output_type": "stream",
          "name": "stdout",
          "text": [
            "plant\n",
            "Brinjal\n",
            "20\n",
            "10\n"
          ]
        }
      ]
    },
    {
      "cell_type": "code",
      "metadata": {
        "id": "y4KL5WaiL_h0",
        "colab": {
          "base_uri": "https://localhost:8080/"
        },
        "outputId": "b3c18dd2-fe19-4353-fd56-108b51328d70"
      },
      "source": [
        "# Find the errors in the coding and correct \n",
        "# formula to convert centrigrade to fahr\n",
        "\n",
        "\n",
        "C = 21; F = ( (9/5) * C )+ 32\n",
        "print(F)\n",
        "C = 21.0; F = ( (9/5)*C ) + 32\n",
        "print(F)"
      ],
      "execution_count": null,
      "outputs": [
        {
          "output_type": "stream",
          "name": "stdout",
          "text": [
            "69.80000000000001\n",
            "69.80000000000001\n"
          ]
        }
      ]
    },
    {
      "cell_type": "code",
      "metadata": {
        "id": "OEGKfzBuMe5b",
        "colab": {
          "base_uri": "https://localhost:8080/",
          "height": 229
        },
        "outputId": "bc63efc0-ed18-42bd-ab84-ed6c13f5e96f"
      },
      "source": [
        "#Explain why the code is not working \n",
        "c= a + b \n",
        "a =10 \n",
        "b = 5 \n",
        "print(c)\n",
        "\n",
        "#variable 'a' and 'b' is not assigned any value it should be assigned before the operation\n"
      ],
      "execution_count": null,
      "outputs": [
        {
          "output_type": "error",
          "ename": "NameError",
          "evalue": "ignored",
          "traceback": [
            "\u001b[0;31m---------------------------------------------------------------------------\u001b[0m",
            "\u001b[0;31mNameError\u001b[0m                                 Traceback (most recent call last)",
            "\u001b[0;32m<ipython-input-33-f20618e14c72>\u001b[0m in \u001b[0;36m<module>\u001b[0;34m()\u001b[0m\n\u001b[1;32m      1\u001b[0m \u001b[0;31m#Explain why the code is not working\u001b[0m\u001b[0;34m\u001b[0m\u001b[0;34m\u001b[0m\u001b[0;34m\u001b[0m\u001b[0m\n\u001b[0;32m----> 2\u001b[0;31m \u001b[0mc\u001b[0m\u001b[0;34m=\u001b[0m \u001b[0ma\u001b[0m \u001b[0;34m+\u001b[0m \u001b[0mb\u001b[0m\u001b[0;34m\u001b[0m\u001b[0;34m\u001b[0m\u001b[0m\n\u001b[0m\u001b[1;32m      3\u001b[0m \u001b[0ma\u001b[0m \u001b[0;34m=\u001b[0m\u001b[0;36m10\u001b[0m\u001b[0;34m\u001b[0m\u001b[0;34m\u001b[0m\u001b[0m\n\u001b[1;32m      4\u001b[0m \u001b[0mb\u001b[0m \u001b[0;34m=\u001b[0m \u001b[0;36m5\u001b[0m\u001b[0;34m\u001b[0m\u001b[0;34m\u001b[0m\u001b[0m\n\u001b[1;32m      5\u001b[0m \u001b[0mprint\u001b[0m\u001b[0;34m(\u001b[0m\u001b[0mc\u001b[0m\u001b[0;34m)\u001b[0m\u001b[0;34m\u001b[0m\u001b[0;34m\u001b[0m\u001b[0m\n",
            "\u001b[0;31mNameError\u001b[0m: name 'a' is not defined"
          ]
        }
      ]
    },
    {
      "cell_type": "code",
      "metadata": {
        "colab": {
          "base_uri": "https://localhost:8080/"
        },
        "id": "GeVaIE5lK6Xk",
        "outputId": "0b6cd16b-00a9-44c8-978f-92030a6ec98b"
      },
      "source": [
        "# Find the bugs in the below code, correct the mistakes and comment suggestions \n",
        "from math import pi\n",
        "h = 5.0 # height\n",
        "b = 2.0 # base\n",
        "r = 1.5 #radius\n",
        "area_parallelogram = h*b\n",
        "print ('The area of the parallelogram is %.3f' % area_parallelogram)\n",
        "area_square = b**2\n",
        "print ('The area of the square is %g' % area_square)\n",
        "area_circle = pi*r**2\n",
        "print ('The area of the circle is %.3f' % area_circle)\n",
        "volume_cone = 1.0/3*pi*r**2*h\n",
        "print ('The volume of the cone is %.3f' % volume_cone)"
      ],
      "execution_count": null,
      "outputs": [
        {
          "output_type": "stream",
          "name": "stdout",
          "text": [
            "The area of the parallelogram is 10.000\n",
            "The area of the square is 4\n",
            "The area of the circle is 7.069\n",
            "The volume of the cone is 11.781\n"
          ]
        }
      ]
    },
    {
      "cell_type": "code",
      "metadata": {
        "colab": {
          "base_uri": "https://localhost:8080/"
        },
        "id": "o5pap43SGS_9",
        "outputId": "7ae94cae-75bc-46cc-ee53-0e0e3ddd04ec"
      },
      "source": [
        "# This code shows the use math module \n",
        "# Run time error and Logical Error \n",
        "\n",
        "from math import sin\n",
        "#r= sin(c)\n",
        "\n",
        "x=2.4\n",
        "y = 2.5 + 3j\n",
        "y_new = abs(y)\n",
        "print(y_new)\n",
        "\n",
        "print (sin(x))\n",
        "print (sin(y_new))\n"
      ],
      "execution_count": null,
      "outputs": [
        {
          "output_type": "stream",
          "name": "stdout",
          "text": [
            "3.905124837953327\n",
            "0.675463180551151\n",
            "-0.6914773966101274\n"
          ]
        }
      ]
    },
    {
      "cell_type": "code",
      "metadata": {
        "id": "YI47Zx77kag2",
        "colab": {
          "base_uri": "https://localhost:8080/"
        },
        "outputId": "0c125d00-eb1c-418c-9f65-53be1d81dc1c"
      },
      "source": [
        "print(\"Hello, World!\")\n",
        "print(5)\n",
        "print(\"All finished!\")"
      ],
      "execution_count": null,
      "outputs": [
        {
          "output_type": "stream",
          "name": "stdout",
          "text": [
            "Hello, World!\n",
            "5\n",
            "All finished!\n"
          ]
        }
      ]
    },
    {
      "cell_type": "code",
      "metadata": {
        "id": "1BsRwEjLqSxE",
        "colab": {
          "base_uri": "https://localhost:8080/"
        },
        "outputId": "5798cee3-18bc-4594-eff1-0168e1d9fffb"
      },
      "source": [
        "# Print the statement, Kindly help me!\n",
        "print (\"Kindly help me!\")"
      ],
      "execution_count": null,
      "outputs": [
        {
          "output_type": "stream",
          "name": "stdout",
          "text": [
            "Kindly help me!\n"
          ]
        }
      ]
    },
    {
      "cell_type": "code",
      "metadata": {
        "id": "0hlQygpy9Nto",
        "colab": {
          "base_uri": "https://localhost:8080/"
        },
        "outputId": "1f75acfb-ea11-474b-dd8b-a3cbc4aadabf"
      },
      "source": [
        "# print the value of the course \n",
        "course = \"Programming with Python\"\n",
        "print (course)"
      ],
      "execution_count": null,
      "outputs": [
        {
          "output_type": "stream",
          "name": "stdout",
          "text": [
            "Programming with Python\n"
          ]
        }
      ]
    },
    {
      "cell_type": "code",
      "metadata": {
        "id": "ta5XT3nWbX5D"
      },
      "source": [
        ""
      ],
      "execution_count": null,
      "outputs": []
    },
    {
      "cell_type": "code",
      "metadata": {
        "id": "KRQbpCioCZmv",
        "colab": {
          "base_uri": "https://localhost:8080/",
          "height": 128
        },
        "outputId": "e33dc2a0-8840-4653-c96b-806485792c1a"
      },
      "source": [
        "#store the size of the land in the variable size  in square feet \n",
        "size = 200 \n",
        "#store the income as in\n",
        "#print the value of  both size and income \n",
        "in= 9000\n",
        "\n",
        "print(\"size=\", size  ,\"income=\", in )\n",
        "\n",
        "cropName=\"Drumstick\"\n",
        "year_2021 = 'Drumstick'"
      ],
      "execution_count": null,
      "outputs": [
        {
          "output_type": "error",
          "ename": "SyntaxError",
          "evalue": "ignored",
          "traceback": [
            "\u001b[0;36m  File \u001b[0;32m\"<ipython-input-39-6d83a5d7bb21>\"\u001b[0;36m, line \u001b[0;32m5\u001b[0m\n\u001b[0;31m    in= 9000\u001b[0m\n\u001b[0m     ^\u001b[0m\n\u001b[0;31mSyntaxError\u001b[0m\u001b[0;31m:\u001b[0m invalid syntax\n"
          ]
        }
      ]
    },
    {
      "cell_type": "code",
      "metadata": {
        "id": "AwZuxqIoEJVV",
        "colab": {
          "base_uri": "https://localhost:8080/"
        },
        "outputId": "6e58728f-e554-49eb-d295-1e64f2ccd681"
      },
      "source": [
        "print (\"Don't eat those cookies before dinner.\")"
      ],
      "execution_count": null,
      "outputs": [
        {
          "output_type": "stream",
          "name": "stdout",
          "text": [
            "Don't eat those cookies before dinner.\n"
          ]
        }
      ]
    },
    {
      "cell_type": "code",
      "metadata": {
        "id": "l9ymjrwAcGE7",
        "colab": {
          "base_uri": "https://localhost:8080/"
        },
        "outputId": "4073a7d2-056b-4100-daa9-fe56bf5e0abf"
      },
      "source": [
        "print ('Hello \\t \\t \\t world' )"
      ],
      "execution_count": null,
      "outputs": [
        {
          "output_type": "stream",
          "name": "stdout",
          "text": [
            "Hello \t \t \t world\n"
          ]
        }
      ]
    },
    {
      "cell_type": "code",
      "metadata": {
        "id": "6zLCndnBhJkF",
        "colab": {
          "base_uri": "https://localhost:8080/"
        },
        "outputId": "b94deacc-e6c4-448a-d2d4-b4c51b04ea1c"
      },
      "source": [
        "print (\"I like Python Programming!\")"
      ],
      "execution_count": null,
      "outputs": [
        {
          "output_type": "stream",
          "name": "stdout",
          "text": [
            "I like Python Programming!\n"
          ]
        }
      ]
    },
    {
      "cell_type": "code",
      "metadata": {
        "colab": {
          "base_uri": "https://localhost:8080/"
        },
        "id": "p3CqLQsAhS7o",
        "outputId": "f064644f-cd4a-4bdb-ef09-5855653799f7"
      },
      "source": [
        "print (\"The first program in any programming language is\"+ \" Hello World\"+\".\")"
      ],
      "execution_count": null,
      "outputs": [
        {
          "output_type": "stream",
          "name": "stdout",
          "text": [
            "The first program in any programming language is Hello World.\n"
          ]
        }
      ]
    },
    {
      "cell_type": "code",
      "metadata": {
        "colab": {
          "base_uri": "https://localhost:8080/"
        },
        "id": "y2bSAfLTcNw8",
        "outputId": "ca567a53-9964-476e-a44f-f1cee76add0e"
      },
      "source": [
        "print (\"cropname\")\n",
        "#or\n",
        "cropname=\"msis\"\n",
        "print(cropname)"
      ],
      "execution_count": null,
      "outputs": [
        {
          "output_type": "stream",
          "name": "stdout",
          "text": [
            "cropname\n",
            "msis\n"
          ]
        }
      ]
    },
    {
      "cell_type": "code",
      "metadata": {
        "colab": {
          "base_uri": "https://localhost:8080/"
        },
        "id": "naQO1yYtelji",
        "outputId": "af7bc188-08ca-4974-89b7-8f77dd5bfbbe"
      },
      "source": [
        "# find the bug\n",
        "1/2"
      ],
      "execution_count": null,
      "outputs": [
        {
          "output_type": "execute_result",
          "data": {
            "text/plain": [
              "0.5"
            ]
          },
          "metadata": {},
          "execution_count": 45
        }
      ]
    },
    {
      "cell_type": "code",
      "metadata": {
        "colab": {
          "base_uri": "https://localhost:8080/"
        },
        "id": "ww59VvltfTN6",
        "outputId": "65329a33-1db6-4b72-e2c7-391219d5ce7e"
      },
      "source": [
        "profit = 1000\n",
        "#increment profit by 1\n",
        "profit+1\n"
      ],
      "execution_count": null,
      "outputs": [
        {
          "output_type": "execute_result",
          "data": {
            "text/plain": [
              "1001"
            ]
          },
          "metadata": {},
          "execution_count": 46
        }
      ]
    },
    {
      "cell_type": "code",
      "metadata": {
        "colab": {
          "base_uri": "https://localhost:8080/"
        },
        "id": "cK7zIHHyizeI",
        "outputId": "090723fd-6496-4bd5-c83e-b68eac742bef"
      },
      "source": [
        "from math import log\n",
        "print (log(10))"
      ],
      "execution_count": null,
      "outputs": [
        {
          "output_type": "stream",
          "name": "stdout",
          "text": [
            "2.302585092994046\n"
          ]
        }
      ]
    },
    {
      "cell_type": "code",
      "metadata": {
        "colab": {
          "base_uri": "https://localhost:8080/"
        },
        "id": "kVuiqskDjy5L",
        "outputId": "c67d702c-847d-4e20-bcab-46bc7e7ac2c7"
      },
      "source": [
        "import math\n",
        "print (math.sin(2))"
      ],
      "execution_count": null,
      "outputs": [
        {
          "output_type": "stream",
          "name": "stdout",
          "text": [
            "0.9092974268256817\n"
          ]
        }
      ]
    },
    {
      "cell_type": "code",
      "metadata": {
        "colab": {
          "base_uri": "https://localhost:8080/"
        },
        "id": "c-ad-Nzrq77u",
        "outputId": "fbcb34f7-3fcc-4dd6-8e23-d7b8ed9ed1ee"
      },
      "source": [
        "num_int =55\n",
        "num_str =\"34\"\n",
        "total = num_int +int(num_str)\n",
        "print (total)\n",
        "print (type(num_int))\n",
        "print (type(num_str))\n"
      ],
      "execution_count": null,
      "outputs": [
        {
          "output_type": "stream",
          "name": "stdout",
          "text": [
            "89\n",
            "<class 'int'>\n",
            "<class 'str'>\n"
          ]
        }
      ]
    },
    {
      "cell_type": "code",
      "metadata": {
        "id": "jPjjyFnttQmk",
        "colab": {
          "base_uri": "https://localhost:8080/"
        },
        "outputId": "ba5a9499-b05b-422f-f805-57bdeddd6a57"
      },
      "source": [
        "# Trying to print the multiplication entry, but it throws error \n",
        "5*6 "
      ],
      "execution_count": null,
      "outputs": [
        {
          "output_type": "execute_result",
          "data": {
            "text/plain": [
              "30"
            ]
          },
          "metadata": {},
          "execution_count": 47
        }
      ]
    },
    {
      "cell_type": "code",
      "metadata": {
        "id": "3BbHIDfm9m8Z",
        "colab": {
          "base_uri": "https://localhost:8080/"
        },
        "outputId": "100ea666-7c4c-4917-9d9f-d7c19ca40823"
      },
      "source": [
        "# Trying to find the round of 10.2 \n",
        "round (10.2)\n"
      ],
      "execution_count": null,
      "outputs": [
        {
          "output_type": "execute_result",
          "data": {
            "text/plain": [
              "10"
            ]
          },
          "metadata": {},
          "execution_count": 50
        }
      ]
    },
    {
      "cell_type": "code",
      "metadata": {
        "colab": {
          "base_uri": "https://localhost:8080/"
        },
        "id": "JgPti3XH905j",
        "outputId": "c2dec4a3-3659-436f-de2d-f73661be14ac"
      },
      "source": [
        "round(10.2)"
      ],
      "execution_count": null,
      "outputs": [
        {
          "output_type": "execute_result",
          "data": {
            "text/plain": [
              "10"
            ]
          },
          "metadata": {},
          "execution_count": 51
        }
      ]
    },
    {
      "cell_type": "code",
      "metadata": {
        "colab": {
          "base_uri": "https://localhost:8080/"
        },
        "id": "SNu9AoTc96rR",
        "outputId": "4b703cde-b0db-41af-9ffd-5a71d54a1b47"
      },
      "source": [
        "# Trying to calculate 2 to the power of 5 \n",
        "\n",
        "pow(2,5)"
      ],
      "execution_count": null,
      "outputs": [
        {
          "output_type": "execute_result",
          "data": {
            "text/plain": [
              "32"
            ]
          },
          "metadata": {},
          "execution_count": 52
        }
      ]
    },
    {
      "cell_type": "code",
      "metadata": {
        "colab": {
          "base_uri": "https://localhost:8080/"
        },
        "id": "RYI_-mCi_uhB",
        "outputId": "03d84d32-25c7-4fc1-c330-db65b1102c74"
      },
      "source": [
        "#Trying to multiply 5 \n",
        "a=5 * 5 \n",
        "print(a)"
      ],
      "execution_count": null,
      "outputs": [
        {
          "output_type": "stream",
          "name": "stdout",
          "text": [
            "25\n"
          ]
        }
      ]
    },
    {
      "cell_type": "code",
      "metadata": {
        "id": "nBbRBfMb9JOs",
        "colab": {
          "base_uri": "https://localhost:8080/"
        },
        "outputId": "087f4c49-e12f-4d30-8171-130e306b220a"
      },
      "source": [
        "# Trying to print the text message Hello \n",
        "\n",
        "print(\"Hello\") "
      ],
      "execution_count": null,
      "outputs": [
        {
          "output_type": "stream",
          "name": "stdout",
          "text": [
            "Hello\n"
          ]
        }
      ]
    },
    {
      "cell_type": "code",
      "metadata": {
        "id": "79e4eQ0RbY4U",
        "colab": {
          "base_uri": "https://localhost:8080/"
        },
        "outputId": "07163487-d5b7-4ad1-c758-57d555a8cdf9"
      },
      "source": [
        "#store the size of the land in the variable size  in square feet \n",
        "size = 200 \n",
        "#store the income as in\n",
        "#print the value of  both size and income \n",
        "inn = 9000\n",
        "print(\"size=\", size  ,\"income=\", inn )\n",
        "\n",
        "cropName=\"Drumstick\"\n",
        "year_2021 = 'Drumstick'"
      ],
      "execution_count": null,
      "outputs": [
        {
          "output_type": "stream",
          "name": "stdout",
          "text": [
            "size= 200 income= 9000\n"
          ]
        }
      ]
    }
  ]
}